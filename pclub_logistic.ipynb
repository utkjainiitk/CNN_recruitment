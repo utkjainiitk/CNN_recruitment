{
  "nbformat": 4,
  "nbformat_minor": 0,
  "metadata": {
    "colab": {
      "name": "CNN_recruitment.ipynb",
      "provenance": [],
      "collapsed_sections": []
    },
    "kernelspec": {
      "name": "python3",
      "display_name": "Python 3"
    },
    "language_info": {
      "name": "python"
    }
  },
  "cells": [
    {
      "cell_type": "code",
      "metadata": {
        "id": "mQlrvARJWd-4"
      },
      "source": [
        "import pandas as pd\n",
        "import numpy as np\n",
        "import matplotlib.pyplot as plt\n",
        "import random\n"
      ],
      "execution_count": 79,
      "outputs": []
    },
    {
      "cell_type": "code",
      "metadata": {
        "colab": {
          "base_uri": "https://localhost:8080/",
          "height": 198
        },
        "id": "O_d2P78KWmIj",
        "outputId": "67d1c7ce-2118-4b59-8574-e1917cc3c9ab"
      },
      "source": [
        "df = pd.read_csv('diabetes2.csv')\n",
        "df.head()"
      ],
      "execution_count": 80,
      "outputs": [
        {
          "output_type": "execute_result",
          "data": {
            "text/html": [
              "<div>\n",
              "<style scoped>\n",
              "    .dataframe tbody tr th:only-of-type {\n",
              "        vertical-align: middle;\n",
              "    }\n",
              "\n",
              "    .dataframe tbody tr th {\n",
              "        vertical-align: top;\n",
              "    }\n",
              "\n",
              "    .dataframe thead th {\n",
              "        text-align: right;\n",
              "    }\n",
              "</style>\n",
              "<table border=\"1\" class=\"dataframe\">\n",
              "  <thead>\n",
              "    <tr style=\"text-align: right;\">\n",
              "      <th></th>\n",
              "      <th>Pregnancies</th>\n",
              "      <th>Glucose</th>\n",
              "      <th>BloodPressure</th>\n",
              "      <th>SkinThickness</th>\n",
              "      <th>Insulin</th>\n",
              "      <th>BMI</th>\n",
              "      <th>DiabetesPedigreeFunction</th>\n",
              "      <th>Age</th>\n",
              "      <th>Outcome</th>\n",
              "    </tr>\n",
              "  </thead>\n",
              "  <tbody>\n",
              "    <tr>\n",
              "      <th>0</th>\n",
              "      <td>6</td>\n",
              "      <td>148</td>\n",
              "      <td>72</td>\n",
              "      <td>35</td>\n",
              "      <td>0</td>\n",
              "      <td>33.6</td>\n",
              "      <td>0.627</td>\n",
              "      <td>50</td>\n",
              "      <td>1</td>\n",
              "    </tr>\n",
              "    <tr>\n",
              "      <th>1</th>\n",
              "      <td>1</td>\n",
              "      <td>85</td>\n",
              "      <td>66</td>\n",
              "      <td>29</td>\n",
              "      <td>0</td>\n",
              "      <td>26.6</td>\n",
              "      <td>0.351</td>\n",
              "      <td>31</td>\n",
              "      <td>0</td>\n",
              "    </tr>\n",
              "    <tr>\n",
              "      <th>2</th>\n",
              "      <td>8</td>\n",
              "      <td>183</td>\n",
              "      <td>64</td>\n",
              "      <td>0</td>\n",
              "      <td>0</td>\n",
              "      <td>23.3</td>\n",
              "      <td>0.672</td>\n",
              "      <td>32</td>\n",
              "      <td>1</td>\n",
              "    </tr>\n",
              "    <tr>\n",
              "      <th>3</th>\n",
              "      <td>1</td>\n",
              "      <td>89</td>\n",
              "      <td>66</td>\n",
              "      <td>23</td>\n",
              "      <td>94</td>\n",
              "      <td>28.1</td>\n",
              "      <td>0.167</td>\n",
              "      <td>21</td>\n",
              "      <td>0</td>\n",
              "    </tr>\n",
              "    <tr>\n",
              "      <th>4</th>\n",
              "      <td>0</td>\n",
              "      <td>137</td>\n",
              "      <td>40</td>\n",
              "      <td>35</td>\n",
              "      <td>168</td>\n",
              "      <td>43.1</td>\n",
              "      <td>2.288</td>\n",
              "      <td>33</td>\n",
              "      <td>1</td>\n",
              "    </tr>\n",
              "  </tbody>\n",
              "</table>\n",
              "</div>"
            ],
            "text/plain": [
              "   Pregnancies  Glucose  BloodPressure  ...  DiabetesPedigreeFunction  Age  Outcome\n",
              "0            6      148             72  ...                     0.627   50        1\n",
              "1            1       85             66  ...                     0.351   31        0\n",
              "2            8      183             64  ...                     0.672   32        1\n",
              "3            1       89             66  ...                     0.167   21        0\n",
              "4            0      137             40  ...                     2.288   33        1\n",
              "\n",
              "[5 rows x 9 columns]"
            ]
          },
          "metadata": {
            "tags": []
          },
          "execution_count": 80
        }
      ]
    },
    {
      "cell_type": "code",
      "metadata": {
        "id": "U9dHnEwpXam5"
      },
      "source": [
        "train = df.sample(frac = 0.8, random_state = 45)\n",
        "test = df.drop(train.index)"
      ],
      "execution_count": 81,
      "outputs": []
    },
    {
      "cell_type": "code",
      "metadata": {
        "colab": {
          "base_uri": "https://localhost:8080/"
        },
        "id": "nobNl9DTX1Vb",
        "outputId": "77339bf2-b2bc-4216-f534-0751f1e45749"
      },
      "source": [
        "df.columns"
      ],
      "execution_count": 82,
      "outputs": [
        {
          "output_type": "execute_result",
          "data": {
            "text/plain": [
              "Index(['Pregnancies', 'Glucose', 'BloodPressure', 'SkinThickness', 'Insulin',\n",
              "       'BMI', 'DiabetesPedigreeFunction', 'Age', 'Outcome'],\n",
              "      dtype='object')"
            ]
          },
          "metadata": {
            "tags": []
          },
          "execution_count": 82
        }
      ]
    },
    {
      "cell_type": "code",
      "metadata": {
        "id": "4vA8aGa7YrJ2"
      },
      "source": [
        "x_train = train[['Pregnancies', 'Glucose', 'BloodPressure', 'SkinThickness', 'Insulin',\n",
        "       'BMI', 'DiabetesPedigreeFunction', 'Age']]\n",
        "y_train = train['Outcome']\n",
        "y_train"
      ],
      "execution_count": 83,
      "outputs": []
    },
    {
      "cell_type": "code",
      "metadata": {
        "id": "9ZC14OKXY4Dw"
      },
      "source": [
        "x_test = test[['Pregnancies', 'Glucose', 'BloodPressure', 'SkinThickness', 'Insulin',\n",
        "       'BMI', 'DiabetesPedigreeFunction', 'Age']]\n",
        "y_test = test['Outcome']"
      ],
      "execution_count": 84,
      "outputs": []
    },
    {
      "cell_type": "code",
      "metadata": {
        "id": "gm3vZNvmY7e9"
      },
      "source": [
        "n_features = x_train.shape[1]\n",
        "\n",
        "bias = 0\n",
        "weight = np.zeros(x_train.shape[1])\n",
        "\n"
      ],
      "execution_count": 85,
      "outputs": []
    },
    {
      "cell_type": "code",
      "metadata": {
        "id": "XVlrui7TdOxE"
      },
      "source": [
        "def sigmoid(x):\n",
        "  return 1/(1 + np.exp(-x))"
      ],
      "execution_count": 86,
      "outputs": []
    },
    {
      "cell_type": "code",
      "metadata": {
        "id": "lXZGG7uYeZma"
      },
      "source": [
        "def predict(weight, bias, x):\n",
        "  y_pred = np.zeros((x.shape[0]))\n",
        "  y_head = sigmoid(np.dot(x,weight) + bias)\n",
        "  for i in range(x.shape[0]):\n",
        "    z = y_head[i]\n",
        "    if (z>=0.5):\n",
        "      y_pred[i] = 1\n",
        "    else:\n",
        "      y_pred[i] = 0\n",
        "  return y_pred"
      ],
      "execution_count": 138,
      "outputs": []
    },
    {
      "cell_type": "code",
      "metadata": {
        "id": "kX2ybQ2nz849"
      },
      "source": [
        "def GDoptim(x, y, learning_rate, iterations, weight, bias):\n",
        "  n_input = x.shape[0]\n",
        "  for i in range(iterations):\n",
        "    z = sigmoid(np.dot(x,weight) + bias)\n",
        "    if(i==0):\n",
        "      print(z.shape)\n",
        "    loss = -np.sum(y*np.log(z)+ (1-y)*np.log(z))/n_input\n",
        "    if(i%100 == 0):\n",
        "      intermediate_pred = predict(weight, bias, x)\n",
        "      accuracy_intermediate = 100 - np.mean(abs(y - intermediate_pred))*100\n",
        "      print('loss :', loss, 'Accuracy :', accuracy_intermediate)\n",
        "    weight_derivative = 1/n_input * np.dot(x.T, (z - y))\n",
        "    bias_derivative = 1/n_input * np.sum(z - y)\n",
        "    weight -= learning_rate * weight_derivative\n",
        "    bias -= learning_rate * bias_derivative\n",
        "  return weight, bias"
      ],
      "execution_count": 141,
      "outputs": []
    },
    {
      "cell_type": "code",
      "metadata": {
        "colab": {
          "base_uri": "https://localhost:8080/"
        },
        "id": "OBXrX5yR42_W",
        "outputId": "2dd6e735-f973-4949-f3f1-c0440a0fc363"
      },
      "source": [
        "n_features = x_train.shape[1]\n",
        "\n",
        "bias = 0\n",
        "weight = np.zeros(x_train.shape[1])\n",
        "learning_rate = 0.0002\n",
        "iterations = 7000\n",
        "weight_final, bias_final = GDoptim(x_train, y_train, learning_rate, iterations, weight,bias)\n",
        "print(weight_final, bias_final)"
      ],
      "execution_count": 148,
      "outputs": [
        {
          "output_type": "stream",
          "text": [
            "(614,)\n",
            "loss : 0.6931471805599453 Accuracy : 35.17915309446255\n",
            "loss : 0.9916832807169895 Accuracy : 67.91530944625407\n",
            "loss : 1.0076057580902062 Accuracy : 68.40390879478828\n",
            "loss : 1.0111196559288345 Accuracy : 67.75244299674267\n",
            "loss : 1.0123063222776616 Accuracy : 67.58957654723127\n",
            "loss : 1.012963054673664 Accuracy : 67.75244299674267\n",
            "loss : 1.0134495788451048 Accuracy : 68.07817589576547\n",
            "loss : 1.0138594933141036 Accuracy : 68.40390879478828\n",
            "loss : 1.0142282916383205 Accuracy : 68.56677524429968\n",
            "loss : 1.0145738379237539 Accuracy : 68.40390879478828\n",
            "loss : 1.0149062601689445 Accuracy : 68.40390879478828\n",
            "loss : 1.0152314709193502 Accuracy : 68.56677524429968\n",
            "loss : 1.0155528930150346 Accuracy : 68.56677524429968\n",
            "loss : 1.0158724420691765 Accuracy : 68.56677524429968\n",
            "loss : 1.016191114555018 Accuracy : 68.56677524429968\n",
            "loss : 1.0165093458805254 Accuracy : 68.89250814332247\n",
            "loss : 1.0168272304077597 Accuracy : 68.72964169381108\n",
            "loss : 1.017144657735524 Accuracy : 68.72964169381108\n",
            "loss : 1.0174613978128828 Accuracy : 68.40390879478828\n",
            "loss : 1.017777154526795 Accuracy : 68.40390879478828\n",
            "loss : 1.0180915996767597 Accuracy : 68.72964169381108\n",
            "loss : 1.0184043946107268 Accuracy : 69.05537459283387\n",
            "loss : 1.0187152040018606 Accuracy : 69.05537459283387\n",
            "loss : 1.0190237045528385 Accuracy : 69.21824104234527\n",
            "loss : 1.0193295903818465 Accuracy : 69.21824104234527\n",
            "loss : 1.0196325762094827 Accuracy : 69.38110749185668\n",
            "loss : 1.0199323990715108 Accuracy : 69.21824104234527\n",
            "loss : 1.0202288190347772 Accuracy : 69.21824104234527\n",
            "loss : 1.020521619235979 Accuracy : 69.05537459283387\n",
            "loss : 1.0208106054611112 Accuracy : 69.21824104234527\n",
            "loss : 1.0210956054164575 Accuracy : 69.54397394136808\n",
            "loss : 1.021376467797168 Accuracy : 69.54397394136808\n",
            "loss : 1.0216530612288561 Accuracy : 69.54397394136808\n",
            "loss : 1.0219252731363624 Accuracy : 69.54397394136808\n",
            "loss : 1.022193008578753 Accuracy : 69.38110749185668\n",
            "loss : 1.0224561890787431 Accuracy : 69.38110749185668\n",
            "loss : 1.022714751466797 Accuracy : 69.38110749185668\n",
            "loss : 1.0229686467542747 Accuracy : 69.38110749185668\n",
            "loss : 1.0232178390456241 Accuracy : 69.38110749185668\n",
            "loss : 1.0234623044963072 Accuracy : 69.70684039087948\n",
            "loss : 1.0237020303206974 Accuracy : 69.70684039087948\n",
            "loss : 1.0239370138523043 Accuracy : 69.70684039087948\n",
            "loss : 1.0241672616572979 Accuracy : 69.70684039087948\n",
            "loss : 1.024392788701259 Accuracy : 69.70684039087948\n",
            "loss : 1.0246136175683243 Accuracy : 69.70684039087948\n",
            "loss : 1.0248297777313375 Accuracy : 69.70684039087948\n",
            "loss : 1.0250413048712328 Accuracy : 69.70684039087948\n",
            "loss : 1.0252482402436176 Accuracy : 69.70684039087948\n",
            "loss : 1.0254506300903443 Accuracy : 70.03257328990227\n",
            "loss : 1.025648525093786 Accuracy : 70.03257328990227\n",
            "loss : 1.0258419798714848 Accuracy : 70.03257328990227\n",
            "loss : 1.0260310525088518 Accuracy : 70.03257328990227\n",
            "loss : 1.026215804127635 Accuracy : 70.19543973941367\n",
            "loss : 1.0263962984879385 Accuracy : 70.19543973941367\n",
            "loss : 1.0265726016216448 Accuracy : 70.19543973941367\n",
            "loss : 1.0267447814951884 Accuracy : 70.19543973941367\n",
            "loss : 1.0269129076997154 Accuracy : 70.19543973941367\n",
            "loss : 1.0270770511667717 Accuracy : 70.19543973941367\n",
            "loss : 1.0272372839077555 Accuracy : 70.19543973941367\n",
            "loss : 1.0273936787754707 Accuracy : 70.19543973941367\n",
            "loss : 1.0275463092462185 Accuracy : 70.19543973941367\n",
            "loss : 1.0276952492209557 Accuracy : 70.19543973941367\n",
            "loss : 1.0278405728441444 Accuracy : 70.19543973941367\n",
            "loss : 1.0279823543390005 Accuracy : 70.19543973941367\n",
            "loss : 1.028120667857937 Accuracy : 70.19543973941367\n",
            "loss : 1.0282555873470784 Accuracy : 70.35830618892508\n",
            "loss : 1.028387186423789 Accuracy : 70.35830618892508\n",
            "loss : 1.028515538266246 Accuracy : 70.52117263843648\n",
            "loss : 1.0286407155141348 Accuracy : 70.52117263843648\n",
            "loss : 1.0287627901796257 Accuracy : 70.52117263843648\n",
            "[ 0.09241901  0.01315091 -0.0304253   0.00161401  0.00077267 -0.00379373\n",
            "  0.00241007 -0.00741245] -0.05092183551636239\n"
          ],
          "name": "stdout"
        }
      ]
    },
    {
      "cell_type": "code",
      "metadata": {
        "colab": {
          "base_uri": "https://localhost:8080/"
        },
        "id": "Qc-lYHIKBO68",
        "outputId": "a9b4da17-d23e-4247-d77a-da0a2b7b9550"
      },
      "source": [
        "y_train_pred = predict(weight_final, bias_final, x_train)\n",
        "accuracy_train = 100 - np.mean(abs(y_train - y_train_pred))*100\n",
        "print(accuracy_train)\n",
        "\n",
        "y_test_pred = predict(weight_final, bias_final, x_test)\n",
        "accuracy_test = 100 - np.mean(abs(y_test - y_test_pred))*100\n",
        "print(accuracy_test)"
      ],
      "execution_count": 149,
      "outputs": [
        {
          "output_type": "stream",
          "text": [
            "70.52117263843648\n",
            "68.83116883116884\n"
          ],
          "name": "stdout"
        }
      ]
    }
  ]
}